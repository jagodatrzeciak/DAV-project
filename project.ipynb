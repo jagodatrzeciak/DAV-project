{
 "cells": [
  {
   "cell_type": "code",
   "execution_count": 11,
   "id": "268c506a",
   "metadata": {
    "pycharm": {
     "name": "#%%\n"
    }
   },
   "outputs": [],
   "source": [
    "import pandas as pd\n",
    "import geopandas as gpd\n",
    "import geoplot as gplt"
   ]
  },
  {
   "cell_type": "code",
   "execution_count": 3,
   "id": "5043fc23",
   "metadata": {
    "pycharm": {
     "name": "#%%\n"
    }
   },
   "outputs": [],
   "source": [
    "df = pd.read_csv(\"data/owid-covid-data.csv\")"
   ]
  },
  {
   "cell_type": "code",
   "execution_count": 4,
   "id": "3cf192b0",
   "metadata": {
    "pycharm": {
     "name": "#%%\n"
    }
   },
   "outputs": [],
   "source": [
    "df_sweden = df[df['location'] == 'Sweden']\n"
   ]
  },
  {
   "cell_type": "code",
   "execution_count": 31,
   "id": "675f2d68",
   "metadata": {
    "pycharm": {
     "name": "#%%\n"
    }
   },
   "outputs": [],
   "source": [
    "world = gpd.read_file(\"ne_10m_admin_1_states_provinces.dbf\", encoding=\"utf-8\")\n",
    "swe = world[world['admin'] == 'Sweden']  "
   ]
  },
  {
   "cell_type": "code",
   "execution_count": 54,
   "id": "77832e0e",
   "metadata": {
    "pycharm": {
     "name": "#%%\n"
    }
   },
   "outputs": [
    {
     "data": {
      "text/plain": [
       "162          Norrbotten\n",
       "164        Västerbotten\n",
       "165            Jämtland\n",
       "169             Dalarna\n",
       "170            Värmland\n",
       "173     Västra Götaland\n",
       "2393     Västernorrland\n",
       "2394          Gävleborg\n",
       "2395            Uppsala\n",
       "2396          Stockholm\n",
       "2397       Södermanland\n",
       "2398       Östergötland\n",
       "2399             Kalmar\n",
       "2400           Blekinge\n",
       "2401              Skåne\n",
       "2402            Halland\n",
       "2893            Gotland\n",
       "3401        Västmanland\n",
       "3402          Jönköping\n",
       "3403             Orebro\n",
       "3404          Kronoberg\n",
       "Name: name, dtype: object"
      ]
     },
     "execution_count": 54,
     "metadata": {},
     "output_type": "execute_result"
    }
   ],
   "source": [
    "swe['name']"
   ]
  },
  {
   "cell_type": "code",
   "execution_count": 52,
   "id": "71350bfe",
   "metadata": {
    "pycharm": {
     "name": "#%%\n"
    }
   },
   "outputs": [
    {
     "ename": "AssertionError",
     "evalue": "The lists are not of the same length!",
     "output_type": "error",
     "traceback": [
      "\u001B[1;31m---------------------------------------------------------------------------\u001B[0m",
      "\u001B[1;31mAssertionError\u001B[0m                            Traceback (most recent call last)",
      "Cell \u001B[1;32mIn[52], line 101\u001B[0m\n\u001B[0;32m      4\u001B[0m data \u001B[38;5;241m=\u001B[39m {\n\u001B[0;32m      5\u001B[0m     \u001B[38;5;124m\"\u001B[39m\u001B[38;5;124mMunicipality\u001B[39m\u001B[38;5;124m\"\u001B[39m: [\n\u001B[0;32m      6\u001B[0m         \u001B[38;5;124m\"\u001B[39m\u001B[38;5;124mArvidsjaur\u001B[39m\u001B[38;5;124m\"\u001B[39m, \u001B[38;5;124m\"\u001B[39m\u001B[38;5;124mArjeplog\u001B[39m\u001B[38;5;124m\"\u001B[39m, \u001B[38;5;124m\"\u001B[39m\u001B[38;5;124mBoden\u001B[39m\u001B[38;5;124m\"\u001B[39m, \u001B[38;5;124m\"\u001B[39m\u001B[38;5;124mGällivare\u001B[39m\u001B[38;5;124m\"\u001B[39m, \u001B[38;5;124m\"\u001B[39m\u001B[38;5;124mHaparanda\u001B[39m\u001B[38;5;124m\"\u001B[39m, \u001B[38;5;124m\"\u001B[39m\u001B[38;5;124mJokkmokk\u001B[39m\u001B[38;5;124m\"\u001B[39m, \u001B[38;5;124m\"\u001B[39m\u001B[38;5;124mKalix\u001B[39m\u001B[38;5;124m\"\u001B[39m, \u001B[38;5;124m\"\u001B[39m\u001B[38;5;124mKiruna\u001B[39m\u001B[38;5;124m\"\u001B[39m,\n\u001B[1;32m   (...)\u001B[0m\n\u001B[0;32m     97\u001B[0m     ]\n\u001B[0;32m     98\u001B[0m }\n\u001B[0;32m    100\u001B[0m \u001B[38;5;66;03m# Ensure the lists are the same length\u001B[39;00m\n\u001B[1;32m--> 101\u001B[0m \u001B[38;5;28;01massert\u001B[39;00m \u001B[38;5;28mlen\u001B[39m(data[\u001B[38;5;124m'\u001B[39m\u001B[38;5;124mMunicipality\u001B[39m\u001B[38;5;124m'\u001B[39m]) \u001B[38;5;241m==\u001B[39m \u001B[38;5;28mlen\u001B[39m(data[\u001B[38;5;124m'\u001B[39m\u001B[38;5;124mRegion\u001B[39m\u001B[38;5;124m'\u001B[39m]), \u001B[38;5;124m\"\u001B[39m\u001B[38;5;124mThe lists are not of the same length!\u001B[39m\u001B[38;5;124m\"\u001B[39m\n\u001B[0;32m    103\u001B[0m \u001B[38;5;66;03m# Create a DataFrame\u001B[39;00m\n\u001B[0;32m    104\u001B[0m df \u001B[38;5;241m=\u001B[39m pd\u001B[38;5;241m.\u001B[39mDataFrame(data)\n",
      "\u001B[1;31mAssertionError\u001B[0m: The lists are not of the same length!"
     ]
    }
   ],
   "source": [
    "municipality_region_dict = {\n",
    "    \"Arvidsjaur\": \"Norrbotten\", \"Arjeplog\": \"Norrbotten\", \"Boden\": \"Norrbotten\", \"Gällivare\": \"Norrbotten\",\n",
    "    \"Haparanda\": \"Norrbotten\", \"Jokkmokk\": \"Norrbotten\", \"Kalix\": \"Norrbotten\", \"Kiruna\": \"Norrbotten\",\n",
    "    \"Luleå\": \"Norrbotten\", \"Pajala\": \"Norrbotten\", \"Piteå\": \"Norrbotten\", \"Älvsbyn\": \"Norrbotten\",\n",
    "    \"Överkalix\": \"Norrbotten\", \"Övertorneå\": \"Norrbotten\",\n",
    "    \"Bjurholm\": \"Västerbotten\", \"Dorotea\": \"Västerbotten\", \"Lycksele\": \"Västerbotten\", \"Malå\": \"Västerbotten\",\n",
    "    \"Nordmaling\": \"Västerbotten\", \"Norsjö\": \"Västerbotten\", \"Robertsfors\": \"Västerbotten\", \"Skellefteå\": \"Västerbotten\",\n",
    "    \"Sorsele\": \"Västerbotten\", \"Storuman\": \"Västerbotten\", \"Umeå\": \"Västerbotten\", \"Vilhelmina\": \"Västerbotten\",\n",
    "    \"Vindeln\": \"Västerbotten\", \"Vännäs\": \"Västerbotten\", \"Åsele\": \"Västerbotten\",\n",
    "    \"Berg\": \"Jämtland\", \"Bräcke\": \"Jämtland\", \"Härjedalen\": \"Jämtland\", \"Krokom\": \"Jämtland\",\n",
    "    \"Ragunda\": \"Jämtland\", \"Strömsund\": \"Jämtland\", \"Åre\": \"Jämtland\", \"Östersund\": \"Jämtland\",\n",
    "    \"Avesta\": \"Dalarna\", \"Borlänge\": \"Dalarna\", \"Falun\": \"Dalarna\", \"Gagnef\": \"Dalarna\",\n",
    "    \"Hedemora\": \"Dalarna\", \"Leksand\": \"Dalarna\", \"Ludvika\": \"Dalarna\", \"Malung-Sälen\": \"Dalarna\",\n",
    "    \"Mora\": \"Dalarna\", \"Orsa\": \"Dalarna\", \"Rättvik\": \"Dalarna\", \"Smedjebacken\": \"Dalarna\",\n",
    "    \"Säter\": \"Dalarna\", \"Vansbro\": \"Dalarna\", \"Älvdalen\": \"Dalarna\",\n",
    "    \"Arvika\": \"Värmland\", \"Eda\": \"Värmland\", \"Filipstad\": \"Värmland\", \"Forshaga\": \"Värmland\",\n",
    "    \"Grums\": \"Värmland\", \"Hagfors\": \"Värmland\", \"Hammarö\": \"Värmland\", \"Karlstad\": \"Värmland\",\n",
    "    \"Kil\": \"Värmland\", \"Kristinehamn\": \"Värmland\", \"Munkfors\": \"Värmland\", \"Storfors\": \"Värmland\",\n",
    "    \"Sunne\": \"Värmland\", \"Säffle\": \"Värmland\", \"Torsby\": \"Värmland\",\n",
    "    \"Ale\": \"Västra Götaland\", \"Alingsås\": \"Västra Götaland\", \"Bengtsfors\": \"Västra Götaland\", \"Bollebygd\": \"Västra Götaland\",\n",
    "    \"Borås\": \"Västra Götaland\", \"Dals-Ed\": \"Västra Götaland\", \"Essunga\": \"Västra Götaland\", \"Falköping\": \"Västra Götaland\",\n",
    "    \"Färgelanda\": \"Västra Götaland\", \"Grästorp\": \"Västra Götaland\", \"Gullspång\": \"Västra Götaland\", \"Göteborg\": \"Västra Götaland\",\n",
    "    \"Herrljunga\": \"Västra Götaland\", \"Hjo\": \"Västra Götaland\", \"Härryda\": \"Västra Götaland\",\n",
    "    \"Karlsborg\": \"Västra Götaland\", \"Kungälv\": \"Västra Götaland\", \"Lerum\": \"Västra Götaland\", \"Lidköping\": \"Västra Götaland\",\n",
    "    \"Lilla Edet\": \"Västra Götaland\", \"Lysekil\": \"Västra Götaland\", \"Mariestad\": \"Västra Götaland\",\n",
    "    \"Mark\": \"Västra Götaland\", \"Mellerud\": \"Västra Götaland\", \"Mölndal\": \"Västra Götaland\", \"Munkedal\": \"Västra Götaland\",\n",
    "    \"Orust\": \"Västra Götaland\", \"Partille\": \"Västra Götaland\", \"Skara\": \"Västra Götaland\", \"Skövde\": \"Västra Götaland\",\n",
    "    \"Sotenäs\": \"Västra Götaland\", \"Stenungsund\": \"Västra Götaland\", \"Strömstad\": \"Västra Götaland\", \"Svenljunga\": \"Västra Götaland\",\n",
    "    \"Tanum\": \"Västra Götaland\", \"Tibro\": \"Västra Götaland\", \"Tidaholm\": \"Västra Götaland\",\n",
    "    \"Tjörn\": \"Västra Götaland\", \"Tranemo\": \"Västra Götaland\", \"Trollhättan\": \"Västra Götaland\", \"Töreboda\": \"Västra Götaland\",\n",
    "    \"Uddevalla\": \"Västra Götaland\", \"Ulricehamn\": \"Västra Götaland\", \"Vara\": \"Västra Götaland\",\n",
    "    \"Vårgårda\": \"Västra Götaland\", \"Vänersborg\": \"Västra Götaland\", \"Åmål\": \"Västra Götaland\", \"Öckerö\": \"Västra Götaland\",\n",
    "    \"Härnösand\": \"Västernorrland\", \"Kramfors\": \"Västernorrland\", \"Sollefteå\": \"Västernorrland\", \"Sundsvall\": \"Västernorrland\",\n",
    "    \"Timrå\": \"Västernorrland\", \"Ånge\": \"Västernorrland\", \"Örnsköldsvik\": \"Västernorrland\",\n",
    "    \"Bollnäs\": \"Gävleborg\", \"Gävle\": \"Gävleborg\", \"Hofors\": \"Gävleborg\", \"Hudiksvall\": \"Gävleborg\",\n",
    "    \"Ljusdal\": \"Gävleborg\", \"Nordanstig\": \"Gävleborg\", \"Ockelbo\": \"Gävleborg\",\n",
    "    \"Ovanåker\": \"Gävleborg\", \"Sandviken\": \"Gävleborg\", \"Söderhamn\": \"Gävleborg\",\n",
    "    \"Enköping\": \"Uppsala\", \"Heby\": \"Uppsala\", \"Håbo\": \"Uppsala\", \"Knivsta\": \"Uppsala\",\n",
    "    \"Tierp\": \"Uppsala\", \"Uppsala\": \"Uppsala\", \"Älvkarleby\": \"Uppsala\", \"Östhammar\": \"Uppsala\",\n",
    "    \"Botkyrka\": \"Stockholm\", \"Danderyd\": \"Stockholm\", \"Ekerö\": \"Stockholm\", \"Haninge\": \"Stockholm\",\n",
    "    \"Huddinge\": \"Stockholm\", \"Järfälla\": \"Stockholm\", \"Lidingö\": \"Stockholm\", \"Nacka\": \"Stockholm\",\n",
    "    \"Norrtälje\": \"Stockholm\", \"Nykvarn\": \"Stockholm\", \"Nynäshamn\": \"Stockholm\", \"Salem\": \"Stockholm\",\n",
    "    \"Sigtuna\": \"Stockholm\", \"Sollentuna\": \"Stockholm\", \"Solna\": \"Stockholm\",\n",
    "    \"Stockholm\": \"Stockholm\", \"Sundbyberg\": \"Stockholm\", \"Södertälje\": \"Stockholm\", \"Tyresö\": \"Stockholm\",\n",
    "    \"Täby\": \"Stockholm\", \"Upplands-Bro\": \"Stockholm\", \"Upplands Väsby\": \"Stockholm\",\n",
    "    \"Vallentuna\": \"Stockholm\", \"Vaxholm\": \"Stockholm\", \"Värmdö\": \"Stockholm\", \"Österåker\": \"Stockholm\",\n",
    "    \"Eskilstuna\": \"Södermanland\", \"Flen\": \"Södermanland\", \"Gnesta\": \"Södermanland\", \"Katrineholm\": \"Södermanland\",\n",
    "    \"Nyköping\": \"Södermanland\", \"Oxelösund\": \"Södermanland\", \"Strängnäs\": \"Södermanland\",\n",
    "    \"Trosa\": \"Södermanland\", \"Vingåker\": \"Södermanland\",\n",
    "    \"Boxholm\": \"Östergötland\", \"Finspång\": \"Östergötland\", \"Kinda\": \"Östergötland\", \"Linköping\": \"Östergötland\",\n",
    "    \"Mjölby\": \"Östergötland\", \"Motala\": \"Östergötland\", \"Norrköping\": \"Östergötland\",\n",
    "    \"Söderköping\": \"Östergötland\", \"Vadstena\": \"Östergötland\", \"Valdemarsvik\": \"Östergötland\", \"Ydre\": \"Östergötland\",\n",
    "    \"Åtvidaberg\": \"Östergötland\", \"Ödeshög\": \"Östergötland\",\n",
    "    \"Borgholm\": \"Kalmar\", \"Emmaboda\": \"Kalmar\", \"Hultsfred\": \"Kalmar\", \"Högsby\": \"Kalmar\",\n",
    "    \"Kalmar\": \"Kalmar\", \"Mönsterås\": \"Kalmar\", \"Mörbylånga\": \"Kalmar\",\n",
    "    \"Nybro\": \"Kalmar\", \"Oskarshamn\": \"Kalmar\", \"Torsås\": \"Kalmar\", \"Vimmerby\": \"Kalmar\", \"Västervik\": \"Kalmar\",\n",
    "    \"Karlshamn\": \"Blekinge\", \"Karlskrona\": \"Blekinge\", \"Olofström\": \"Blekinge\", \"Ronneby\": \"Blekinge\", \"Sölvesborg\": \"Blekinge\",\n",
    "    \"Bjuv\": \"Skåne\", \"Bromölla\": \"Skåne\", \"Burlöv\": \"Skåne\", \"Båstad\": \"Skåne\", \"Eslöv\": \"Skåne\", \"Helsingborg\": \"Skåne\", \"Hässleholm\": \"Skåne\",\n",
    "    \"Höganäs\": \"Skåne\", \"Hörby\": \"Skåne\", \"Höör\": \"Skåne\", \"Klippan\": \"Skåne\", \"Kristianstad\": \"Skåne\", \"Kävlinge\": \"Skåne\", \"Landskrona\": \"Skåne\",\n",
    "    \"Lomma\": \"Skåne\", \"Lund\": \"Skåne\", \"Malmö\": \"Skåne\", \"Osby\": \"Skåne\", \"Perstorp\": \"Skåne\", \"Simrishamn\": \"Skåne\", \"Sjöbo\": \"Skåne\", \"Skurup\": \"Skåne\",\n",
    "    \"Staffanstorp\": \"Skåne\", \"Svalöv\": \"Skåne\", \"Svedala\": \"Skåne\", \"Tomelilla\": \"Skåne\", \"Trelleborg\": \"Skåne\", \"Vellinge\": \"Skåne\", \"Ystad\": \"Skåne\",\n",
    "    \"Åstorp\": \"Skåne\", \"Ängelholm\": \"Skåne\", \"Örkelljunga\": \"Skåne\",\n",
    "    \"Falkenberg\": \"Halland\", \"Halmstad\": \"Halland\", \"Hylte\": \"Halland\", \"Kungsbacka\": \"Halland\", \"Laholm\": \"Halland\", \"Varberg\": \"Halland\",\n",
    "    \"Gotland\": \"Gotland\",\n",
    "    \"Arboga\": \"Västmanland\", \"Fagersta\": \"Västmanland\", \"Hallstahammar\": \"Västmanland\", \"Kungsör\": \"Västmanland\", \"Köping\": \"Västmanland\", \"Norberg\": \"Västmanland\", \"Sala\": \"Västmanland\",\n",
    "    \"Skinnskatteberg\": \"Västmanland\", \"Surahammar\": \"Västmanland\", \"Västerås\": \"Västmanland\",\n",
    "    \"Aneby\": \"Jönköping\", \"Eksjö\": \"Jönköping\", \"Gislaved\": \"Jönköping\", \"Gnosjö\": \"Jönköping\", \"Habo\": \"Jönköping\", \"Jönköping\": \"Jönköping\", \"Mullsjö\": \"Jönköping\", \"Nässjö\": \"Jönköping\",\n",
    "    \"Sävsjö\": \"Jönköping\", \"Tranås\": \"Jönköping\", \"Vaggeryd\": \"Jönköping\", \"Vetlanda\": \"Jönköping\", \"Värnamo\": \"Jönköping\",\n",
    "    \"Askersund\": \"Örebro\", \"Degerfors\": \"Örebro\", \"Hallsberg\": \"Örebro\", \"Hällefors\": \"Örebro\", \"Karlskoga\": \"Örebro\", \"Kumla\": \"Örebro\", \"Laxå\": \"Örebro\",\n",
    "    \"Lekeberg\": \"Örebro\", \"Lindesberg\": \"Örebro\", \"Ljusnarsberg\": \"Örebro\", \"Nora\": \"Örebro\", \"Örebro\": \"Örebro\",\n",
    "    \"Alvesta\": \"Kronoberg\", \"Lessebo\": \"Kronoberg\", \"Ljungby\": \"Kronoberg\", \"Markaryd\": \"Kronoberg\", \"Tingsryd\": \"Kronoberg\", \"Uppvidinge\": \"Kronoberg\", \"Växjö\": \"Kronoberg\", \"Älmhult\": \"Kronoberg\"\n",
    "}"
   ]
  },
  {
   "cell_type": "code",
   "execution_count": 72,
   "id": "d751b4ce",
   "metadata": {
    "pycharm": {
     "name": "#%%\n"
    }
   },
   "outputs": [
    {
     "data": {
      "text/html": [
       "<div>\n",
       "<style scoped>\n",
       "    .dataframe tbody tr th:only-of-type {\n",
       "        vertical-align: middle;\n",
       "    }\n",
       "\n",
       "    .dataframe tbody tr th {\n",
       "        vertical-align: top;\n",
       "    }\n",
       "\n",
       "    .dataframe thead th {\n",
       "        text-align: right;\n",
       "    }\n",
       "</style>\n",
       "<table border=\"1\" class=\"dataframe\">\n",
       "  <thead>\n",
       "    <tr style=\"text-align: right;\">\n",
       "      <th></th>\n",
       "      <th>Region</th>\n",
       "      <th>2020 w1</th>\n",
       "      <th>2020 w2</th>\n",
       "      <th>2020 w3</th>\n",
       "      <th>2020 w4</th>\n",
       "      <th>2020 w5</th>\n",
       "      <th>2020 w6</th>\n",
       "      <th>2020 w7</th>\n",
       "      <th>2020 w8</th>\n",
       "      <th>2020 w9</th>\n",
       "      <th>...</th>\n",
       "      <th>2023 w43</th>\n",
       "      <th>2023 w44</th>\n",
       "      <th>2023 w45</th>\n",
       "      <th>2023 w46</th>\n",
       "      <th>2023 w47</th>\n",
       "      <th>2023 w48</th>\n",
       "      <th>2023 w49</th>\n",
       "      <th>2023 w50</th>\n",
       "      <th>2023 w51</th>\n",
       "      <th>2023 w52</th>\n",
       "    </tr>\n",
       "  </thead>\n",
       "  <tbody>\n",
       "  </tbody>\n",
       "</table>\n",
       "<p>0 rows × 212 columns</p>\n",
       "</div>"
      ],
      "text/plain": [
       "Empty DataFrame\n",
       "Columns: [Region, 2020 w1, 2020 w2, 2020 w3, 2020 w4, 2020 w5, 2020 w6, 2020 w7, 2020 w8, 2020 w9, 2020 w10, 2020 w11, 2020 w12, 2020 w13, 2020 w14, 2020 w15, 2020 w16, 2020 w17, 2020 w18, 2020 w19, 2020 w20, 2020 w21, 2020 w22, 2020 w23, 2020 w24, 2020 w25, 2020 w26, 2020 w27, 2020 w28, 2020 w29, 2020 w30, 2020 w31, 2020 w32, 2020 w33, 2020 w34, 2020 w35, 2020 w36, 2020 w37, 2020 w38, 2020 w39, 2020 w40, 2020 w41, 2020 w42, 2020 w43, 2020 w44, 2020 w45, 2020 w46, 2020 w47, 2020 w48, 2020 w49, 2020 w50, 2020 w51, 2020 w52, 2020 w53, 2021 w1, 2021 w2, 2021 w3, 2021 w4, 2021 w5, 2021 w6, 2021 w7, 2021 w8, 2021 w9, 2021 w10, 2021 w11, 2021 w12, 2021 w13, 2021 w14, 2021 w15, 2021 w16, 2021 w17, 2021 w18, 2021 w19, 2021 w20, 2021 w21, 2021 w22, 2021 w23, 2021 w24, 2021 w25, 2021 w26, 2021 w27, 2021 w28, 2021 w29, 2021 w30, 2021 w31, 2021 w32, 2021 w33, 2021 w34, 2021 w35, 2021 w36, 2021 w37, 2021 w38, 2021 w39, 2021 w40, 2021 w41, 2021 w42, 2021 w43, 2021 w44, 2021 w45, 2021 w46, ...]\n",
       "Index: []\n",
       "\n",
       "[0 rows x 212 columns]"
      ]
     },
     "execution_count": 72,
     "metadata": {},
     "output_type": "execute_result"
    }
   ],
   "source": [
    "new_cases = pd.read_csv(\"data/sweden_new_cases.csv\", encoding='ISO-8859-1')\n",
    "new_cases.dropna()"
   ]
  },
  {
   "cell_type": "code",
   "execution_count": 73,
   "id": "9c781a63",
   "metadata": {
    "pycharm": {
     "name": "#%%\n"
    }
   },
   "outputs": [
    {
     "name": "stderr",
     "output_type": "stream",
     "text": [
      "c:\\users\\48601\\appdata\\local\\programs\\python\\python39\\lib\\site-packages\\pandas\\core\\dtypes\\cast.py:1641: DeprecationWarning: np.find_common_type is deprecated.  Please use `np.result_type` or `np.promote_types`.\n",
      "See https://numpy.org/devdocs/release/1.25.0-notes.html and the docs for more information.  (Deprecated NumPy 1.25)\n",
      "  return np.find_common_type(types, [])\n"
     ]
    }
   ],
   "source": [
    "values = new_cases[new_cases['Region'] == 'Stockholm'].values[0][1:]"
   ]
  },
  {
   "cell_type": "code",
   "execution_count": 74,
   "id": "75254103",
   "metadata": {
    "pycharm": {
     "name": "#%%\n"
    }
   },
   "outputs": [],
   "source": [
    "columns = new_cases[new_cases['Region'] == 'Stockholm'].columns[1:]"
   ]
  },
  {
   "cell_type": "code",
   "execution_count": 75,
   "id": "6e63d81f",
   "metadata": {
    "pycharm": {
     "name": "#%%\n"
    }
   },
   "outputs": [
    {
     "data": {
      "image/png": "[encoded data removed]",
      "text/plain": [
       "<Figure size 640x480 with 1 Axes>"
      ]
     },
     "metadata": {},
     "output_type": "display_data"
    }
   ],
   "source": [
    "import matplotlib.pyplot as plt\n",
    "plt.plot(columns, values)\n",
    "plt.show()"
   ]
  },
  {
   "cell_type": "code",
   "execution_count": null,
   "id": "7c6a499d",
   "metadata": {
    "pycharm": {
     "name": "#%%\n"
    }
   },
   "outputs": [],
   "source": []
  }
 ],
 "metadata": {
  "kernelspec": {
   "display_name": "Python 3 (ipykernel)",
   "language": "python",
   "name": "python3"
  },
  "language_info": {
   "codemirror_mode": {
    "name": "ipython",
    "version": 3
   },
   "file_extension": ".py",
   "mimetype": "text/x-python",
   "name": "python",
   "nbconvert_exporter": "python",
   "pygments_lexer": "ipython3",
   "version": "3.9.5"
  }
 },
 "nbformat": 4,
 "nbformat_minor": 5
}